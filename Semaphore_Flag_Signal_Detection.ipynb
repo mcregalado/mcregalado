import cv2
import mediapipe as mp
import math
import time
import numpy as np
from tkinter import Tk, Label, Button, Frame
from PIL import Image, ImageTk
import threading

mp_pose = mp.solutions.pose
mp_drawing = mp.solutions.drawing_utils

camera_on = False
frame_data = None
detected_sema4 = []
z = "Letter"
last_detection_time = 0
reset_detection_time = 0
gesture_delay = 2.5
count = 0

def calculate_angle(a, b, c):
    a = [a.x, a.y]
    b = [b.x, b.y]
    c = [c.x, c.y]
    
    ba = [a[0] - b[0], a[1] - b[1]]
    bc = [c[0] - b[0], c[1] - b[1]]
    
    dot_product = ba[0] * bc[0] + ba[1] * bc[1]
    magnitude_ba = math.sqrt(ba[0]**2 + ba[1]**2)
    magnitude_bc = math.sqrt(bc[0]**2 + bc[1]**2)
    
    angle = math.acos(dot_product / (magnitude_ba * magnitude_bc))
    cross_product = ba[0] * bc[1] - ba[1] * bc[0]
    if cross_product < 0:
        angle = -angle
    return math.degrees(angle)

def start_camera():
    global frame_data, camera_on, detected_sema4, z, last_detection_time, count, reset_detection_time
    cap = cv2.VideoCapture(0)
    
    with mp_pose.Pose(min_detection_confidence=0.5, min_tracking_confidence=0.5) as pose:
        while camera_on:
            ret, frame = cap.read()
            if not ret:
                print("Unable to read from the video feed.")
                break
            
            frame = cv2.flip(frame, 1)
            
            rgb_frame = cv2.cvtColor(frame, cv2.COLOR_BGR2RGB)
            
            results = pose.process(rgb_frame)
            current_time = time.time()
            
            if results.pose_landmarks:
                landmarks = results.pose_landmarks.landmark
                
                left_shoulder = landmarks[mp_pose.PoseLandmark.LEFT_SHOULDER]
                left_elbow = landmarks[mp_pose.PoseLandmark.LEFT_ELBOW]
                left_wrist = landmarks[mp_pose.PoseLandmark.LEFT_WRIST]
                left_hip = landmarks[mp_pose.PoseLandmark.LEFT_HIP]
                right_shoulder = landmarks[mp_pose.PoseLandmark.RIGHT_SHOULDER]
                right_elbow = landmarks[mp_pose.PoseLandmark.RIGHT_ELBOW]
                right_wrist = landmarks[mp_pose.PoseLandmark.RIGHT_WRIST]
                right_hip = landmarks[mp_pose.PoseLandmark.RIGHT_HIP]

                left_shoulder_angle = calculate_angle(left_wrist, left_shoulder, left_hip)
                right_shoulder_angle = calculate_angle(right_wrist, right_shoulder, right_hip)
                left_arm_angle = calculate_angle(left_wrist, left_elbow, left_shoulder)
                right_arm_angle = calculate_angle(right_wrist, right_elbow, right_shoulder)
                
                h, w, _ = frame.shape
            
                if 170 < left_arm_angle < 180 or -170 > left_arm_angle > -180 and 170 < right_arm_angle < 180 or -170 > right_arm_angle > -180:
                    if 35 < left_shoulder_angle < 55 and 0 > right_shoulder_angle > -20:
                        if current_time - last_detection_time > gesture_delay:
                            if z == "Letter":
                                detected_sema4.append("A")
                            if z == "Number":
                                detected_sema4.append("1")
                            last_detection_time = current_time
    
                    if 80 < left_shoulder_angle < 100 and 0 > right_shoulder_angle > -20:
                        if current_time - last_detection_time > gesture_delay:
                            if z == "Letter":
                                detected_sema4.append("B")
                            if z == "Number":
                                detected_sema4.append("2")
                            last_detection_time = current_time

                    if 125 < left_shoulder_angle < 145 and 0 > right_shoulder_angle > -20:
                        if current_time - last_detection_time > gesture_delay:
                            if z == "Letter":
                                detected_sema4.append("C")
                            if z == "Number":
                                detected_sema4.append("3")
                            last_detection_time = current_time
    
                    if 170 < abs(left_shoulder_angle) < 180 and 0 > right_shoulder_angle > -20:
                        if current_time - last_detection_time > gesture_delay:
                            if z == "Letter":
                                detected_sema4.append("D")
                            if z == "Number":
                                detected_sema4.append("4")
                            last_detection_time = current_time
    
                    if 0 < left_shoulder_angle < 20 and -125 > right_shoulder_angle > -145:
                        if current_time - last_detection_time > gesture_delay:
                            if z == "Letter":
                                detected_sema4.append("E")
                            if z == "Number":
                                detected_sema4.append("5")
                            last_detection_time = current_time
    
                    if 0 < left_shoulder_angle < 20 and -80 > right_shoulder_angle > -100:
                        if current_time - last_detection_time > gesture_delay:
                            if z == "Letter":
                                detected_sema4.append("F")
                            if z == "Number":
                                detected_sema4.append("6")
                            last_detection_time = current_time
    
                    if 0 < left_shoulder_angle < 20 and -35 > right_shoulder_angle > -55:
                        if current_time - last_detection_time > gesture_delay:
                            if z == "Letter":
                                detected_sema4.append("G")
                            if z == "Number":
                                detected_sema4.append("7")
                            last_detection_time = current_time
    
                    if 80 < left_shoulder_angle < 100 and 35 < right_shoulder_angle < 55:
                        if current_time - last_detection_time > gesture_delay:
                            if z == "Letter":
                                detected_sema4.append("H")
                            if z == "Number":
                                detected_sema4.append("8")
                            last_detection_time = current_time
    
                    if 125 < left_shoulder_angle < 145 and 35 < right_shoulder_angle < 55:
                        if current_time - last_detection_time > gesture_delay:
                            if z == "Letter":
                                detected_sema4.append("I")
                            if z == "Number":
                                detected_sema4.append("9")
                            last_detection_time = current_time
    
                    if 170 < abs(left_shoulder_angle) < 180 and -80 > right_shoulder_angle > -100:
                        if current_time - last_detection_time > gesture_delay:
                            if z == "Letter":
                                detected_sema4.append("J")
                            if z == "Number":
                                detected_sema4.append("0")
                            last_detection_time = current_time
    
                    if 35 < left_shoulder_angle < 55 and 170 < abs(right_shoulder_angle) < 180:
                        if current_time - last_detection_time > gesture_delay:
                            if z == "Letter":
                                detected_sema4.append("K")
                            last_detection_time = current_time
    
                    if 35 < left_shoulder_angle < 55 and -125 > right_shoulder_angle > -145:
                        if current_time - last_detection_time > gesture_delay:
                            if z == "Letter":
                                detected_sema4.append("L")
                            last_detection_time = current_time
    
                    if 35 < left_shoulder_angle < 55 and -80 > right_shoulder_angle > -100:
                        if current_time - last_detection_time > gesture_delay:
                            if z == "Letter":
                                detected_sema4.append("M")
                            last_detection_time = current_time
    
                    if 35 < left_shoulder_angle < 55 and -35 > right_shoulder_angle > -55:
                        if current_time - last_detection_time > gesture_delay:
                            if z == "Letter":
                                detected_sema4.append("N")
                            last_detection_time = current_time
    
                    if 125 < left_shoulder_angle < 145 and 80 < right_shoulder_angle < 100:
                        if current_time - last_detection_time > gesture_delay:
                            if z == "Letter":
                                detected_sema4.append("O")
                            last_detection_time = current_time
    
                    if 80 < left_shoulder_angle < 100 and 170 < abs(right_shoulder_angle) < 180:
                        if current_time - last_detection_time > gesture_delay:
                            if z == "Letter":
                                detected_sema4.append("P")
                            last_detection_time = current_time
    
                    if 80 < left_shoulder_angle < 100 and -125 > right_shoulder_angle > -145:
                        if current_time - last_detection_time > gesture_delay:
                            if z == "Letter":
                                detected_sema4.append("Q")
                            last_detection_time = current_time
    
                    if 80 < left_shoulder_angle < 100 and -80 > right_shoulder_angle > -100:
                        if current_time - last_detection_time > gesture_delay:
                            if z == "Letter":
                                detected_sema4.append("R")
                            last_detection_time = current_time
    
                    if 80 < left_shoulder_angle < 100 and -35 > right_shoulder_angle > -55:
                        if current_time - last_detection_time > gesture_delay:
                            if z == "Letter":
                                detected_sema4.append("S")
                            last_detection_time = current_time
    
                    if 125 < left_shoulder_angle < 145 and 170 < abs(right_shoulder_angle) < 180:
                        if current_time - last_detection_time > gesture_delay:
                            if z == "Letter":
                                detected_sema4.append("T")
                            last_detection_time = current_time
    
                    if 125 < left_shoulder_angle < 145 and -125 > right_shoulder_angle > -145:
                        if current_time - last_detection_time > gesture_delay:
                            if z == "Letter":
                                detected_sema4.append("U")
                            last_detection_time = current_time
    
                    if 170 < abs(left_shoulder_angle) < 180 and -35 > right_shoulder_angle > -55:
                        if current_time - last_detection_time > gesture_delay:
                            if z == "Letter":
                                detected_sema4.append("V")
                            last_detection_time = current_time
    
                    if -80 > left_shoulder_angle > -100 and -125 > right_shoulder_angle > -145:
                        if current_time - last_detection_time > gesture_delay:
                            if z == "Letter":
                                detected_sema4.append("W")
                            last_detection_time = current_time
    
                    if -35 > left_shoulder_angle > -55 and -125 > right_shoulder_angle > -145:
                        if current_time - last_detection_time > gesture_delay:
                            if z == "Letter":
                                detected_sema4.append("X")
                            last_detection_time = current_time
    
                    if 125 < left_shoulder_angle < 145 and -80 > right_shoulder_angle > -100:
                        if current_time - last_detection_time > gesture_delay:
                            if z == "Letter":
                                detected_sema4.append("Y")
                            last_detection_time = current_time
    
                    if -35 > left_shoulder_angle > -55 and -80 > right_shoulder_angle > -100:
                        if current_time - last_detection_time > gesture_delay:
                            if z == "Letter":
                                detected_sema4.append("Z")
                            last_detection_time = current_time

                    if -10 < left_shoulder_angle < 0 and 0 < right_shoulder_angle < 10:
                        if current_time - last_detection_time > gesture_delay:
                            z = "Letter"
                            last_detection_time = current_time
    
                    if 170 < abs(left_shoulder_angle) < 180 and -125 > right_shoulder_angle > -145:
                        if current_time - last_detection_time > gesture_delay:
                            z = "Number"
                            last_detection_time = current_time
    
                    if 125 < left_shoulder_angle < 145 and -35 > right_shoulder_angle > -55:
                        if current_time - last_detection_time > gesture_delay:
                            detected_sema4.pop()
                            last_detection_time = current_time

                    if current_time - reset_detection_time > 0.5:
                        prev_left_ang = left_shoulder_angle
                        prev_right_ang = right_shoulder_angle
                        reset_detection_time = current_time

                    if current_time - last_detection_time > gesture_delay:
                        if abs(prev_left_ang-left_shoulder_angle) >100 and abs(prev_right_ang-right_shoulder_angle) >100:
                            count = count + 1
                            if count == 4:
                                detected_sema4.clear()
                                count = 0
                                last_detection_time = current_time

            word = "".join(detected_sema4)
            cv2.putText(frame, f"OUTPUT: {word}", (10, 70), cv2.FONT_HERSHEY_SIMPLEX, 1, (0, 0, 255), 2)
            cv2.putText(frame, f"Category: {z}", (10, 30), cv2.FONT_HERSHEY_SIMPLEX, 1, (255, 0, 0), 2)

            frame_data = cv2.cvtColor(frame, cv2.COLOR_BGR2RGB)

    cap.release()

def turn_on_camera():
    global camera_on
    camera_on = True
    threading.Thread(target=start_camera, daemon=True).start()

def turn_off_camera():
    global camera_on, frame_data
    camera_on = False
    black_frame = np.zeros((600, 800, 3), dtype=np.uint8)
    frame_data = cv2.cvtColor(black_frame, cv2.COLOR_BGR2RGB)

def update_gui():
    if frame_data is not None:
        img = Image.fromarray(frame_data)
        imgtk = ImageTk.PhotoImage(image=img)
        camera_label.imgtk = imgtk
        camera_label.configure(image=imgtk)
    root.after(10, update_gui)

root = Tk()
root.title("Semaphore Flag Signal Decoder  - Group 7 BSCPE-4C")
root.geometry("1024x720")
root.configure(bg="#DEF1F6")

main_frame = Frame(root, width=1024, height=720, bg="#868480")
main_frame.pack(side="left", fill="both", expand=True)

header_frame = Frame(main_frame, bg="#3E3A32", bd=10) 
header_frame.pack(fill="x", pady=10)

header_label = Label(header_frame, text="Semaphore Flag Signal Decoder", font=('Consolas', 18, 'bold'), fg="white", bg="#3E3A32")
header_label.pack(pady=5)

camera_frame = Frame(main_frame, bg="#4A708B", bd=10)
camera_frame.place(relx=0.5, rely=0.5, anchor="center", width=800, height=600)

camera_label = Label(camera_frame, bg="black")
camera_label.place(relx=0.5, rely=0.5, anchor="center", width=800, height=600)

footer_frame = Frame(main_frame, bg="#3E3A32", bd=10)
footer_frame.pack(fill="x",side="bottom" )

footer_label = Label(footer_frame, text="2024 BSCPE-4C Group 7", font=('Sans-serif', 12), fg="white", bg="#3E3A32")
footer_label.pack(side="bottom", fill="x", pady=10)

btn_frame = Frame(root, bg="#9EBFCF", width=200) 
btn_frame.pack(side="right", fill="y", padx=20, pady=20)

project_label = Label(
    btn_frame,
    text="Final\nProject\nin\nDSP",  
    font=('Consolas', 20, 'bold'),  
    fg="white",
    bg="#85AAB5",  
    justify="center"  
)
project_label.place(relx=0.5, rely=0.2, anchor="center")

button_style = {
    'font': ('Sans-serif', 12, 'bold'),'width': 20,'height': 2,
    'bg': '#3F5050','fg': 'white',
    'relief': 'raised','bd': 0,
    'highlightthickness': 0,'activebackground': '#9EA7D3','activeforeground': 'white',
    'anchor': 'center','padx': 10,'pady': 10
}
turn_on_btn = Button(btn_frame, text="Turn On Camera", command=turn_on_camera, **button_style)
turn_on_btn.place(relx=0.5, rely=0.4, anchor="center") 

turn_off_btn = Button(btn_frame, text="Turn Off Camera", command=turn_off_camera, **button_style)
turn_off_btn.place(relx=0.5, rely=0.5, anchor="center")  

exit_btn = Button(btn_frame, text="Exit", command=root.destroy, **button_style)
exit_btn.place(relx=0.5, rely=0.6, anchor="center")

update_gui()
root.mainloop()
